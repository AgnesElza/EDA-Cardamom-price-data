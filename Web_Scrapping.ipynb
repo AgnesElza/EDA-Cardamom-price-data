{
  "nbformat": 4,
  "nbformat_minor": 0,
  "metadata": {
    "colab": {
      "name": "Web Scrapping.ipynb",
      "provenance": [],
      "collapsed_sections": [],
      "toc_visible": true
    },
    "kernelspec": {
      "name": "python3",
      "display_name": "Python 3"
    },
    "accelerator": "GPU"
  },
  "cells": [
    {
      "cell_type": "code",
      "metadata": {
        "id": "1mSTBDowwACL"
      },
      "source": [
        "import pandas as pd\r\n",
        "import numpy as np\r\n",
        "# https://towardsdatascience.com/scraping-table-data-from-websites-using-a-single-line-in-python-ba898d54e2bc\r\n",
        "# https://pandas.pydata.org/pandas-docs/stable/reference/api/pandas.read_html.html"
      ],
      "execution_count": null,
      "outputs": []
    },
    {
      "cell_type": "code",
      "metadata": {
        "id": "BIqMWnz15KiA"
      },
      "source": [
        "# https://pandas.pydata.org/pandas-docs/stable/user_guide/merging.html"
      ],
      "execution_count": null,
      "outputs": []
    },
    {
      "cell_type": "code",
      "metadata": {
        "colab": {
          "base_uri": "https://localhost:8080/",
          "height": 546
        },
        "id": "KO6X_dAqWpQa",
        "outputId": "8f650b70-bae6-4f0d-a3af-4440bdb8a532"
      },
      "source": [
        "for i in range(1,271,1):\r\n",
        "  URL=\"http://www.indianspices.com/marketing/price/domestic/daily-price-small.html?page={}\".format(i)\r\n",
        "  table = pd.read_html(URL,match = \".+\")\r\n",
        "  df = table[1]\r\n",
        "  df.columns = df.iloc[0]\r\n",
        "  df = df[1:]\r\n",
        "  tables.append(df)\r\n",
        "tables[0]"
      ],
      "execution_count": null,
      "outputs": [
        {
          "output_type": "execute_result",
          "data": {
            "text/html": [
              "<div>\n",
              "<style scoped>\n",
              "    .dataframe tbody tr th:only-of-type {\n",
              "        vertical-align: middle;\n",
              "    }\n",
              "\n",
              "    .dataframe tbody tr th {\n",
              "        vertical-align: top;\n",
              "    }\n",
              "\n",
              "    .dataframe thead th {\n",
              "        text-align: right;\n",
              "    }\n",
              "</style>\n",
              "<table border=\"1\" class=\"dataframe\">\n",
              "  <thead>\n",
              "    <tr style=\"text-align: right;\">\n",
              "      <th></th>\n",
              "      <th>Sno</th>\n",
              "      <th>Date of Auction</th>\n",
              "      <th>Auctioneer</th>\n",
              "      <th>No.of Lots</th>\n",
              "      <th>Total Qty Arrived (Kgs)</th>\n",
              "      <th>Qty Sold (Kgs)</th>\n",
              "      <th>MaxPrice (Rs./Kg)</th>\n",
              "      <th>Avg.Price (Rs./Kg)</th>\n",
              "    </tr>\n",
              "  </thead>\n",
              "  <tbody>\n",
              "    <tr>\n",
              "      <th>1</th>\n",
              "      <td>1</td>\n",
              "      <td>06-Jan-2021</td>\n",
              "      <td>Header Systems (India) Limited, Nedumkandam</td>\n",
              "      <td>179</td>\n",
              "      <td>47632.5</td>\n",
              "      <td>47414.7</td>\n",
              "      <td>2020.00</td>\n",
              "      <td>1653.78</td>\n",
              "    </tr>\n",
              "    <tr>\n",
              "      <th>2</th>\n",
              "      <td>2</td>\n",
              "      <td>06-Jan-2021</td>\n",
              "      <td>Mas Enterprises, Vandanmettu</td>\n",
              "      <td>140</td>\n",
              "      <td>34044.8</td>\n",
              "      <td>33302.3</td>\n",
              "      <td>2213.00</td>\n",
              "      <td>1691.46</td>\n",
              "    </tr>\n",
              "    <tr>\n",
              "      <th>3</th>\n",
              "      <td>3</td>\n",
              "      <td>05-Jan-2021</td>\n",
              "      <td>THE CARDAMOM PLANTERS MARKETING CO-OPERATIVE S...</td>\n",
              "      <td>206</td>\n",
              "      <td>60152.8</td>\n",
              "      <td>59248.3</td>\n",
              "      <td>2092.00</td>\n",
              "      <td>1626.13</td>\n",
              "    </tr>\n",
              "    <tr>\n",
              "      <th>4</th>\n",
              "      <td>4</td>\n",
              "      <td>05-Jan-2021</td>\n",
              "      <td>Cardamom Planters' Association, Santhanpara</td>\n",
              "      <td>161</td>\n",
              "      <td>30872.7</td>\n",
              "      <td>27759.9</td>\n",
              "      <td>1962.00</td>\n",
              "      <td>1586.01</td>\n",
              "    </tr>\n",
              "    <tr>\n",
              "      <th>5</th>\n",
              "      <td>5</td>\n",
              "      <td>04-Jan-2021</td>\n",
              "      <td>South Indian Green Cardamom Company Ltd, Kochi</td>\n",
              "      <td>290</td>\n",
              "      <td>82052.4</td>\n",
              "      <td>67921.3</td>\n",
              "      <td>2106.00</td>\n",
              "      <td>1660.35</td>\n",
              "    </tr>\n",
              "    <tr>\n",
              "      <th>6</th>\n",
              "      <td>6</td>\n",
              "      <td>04-Jan-2021</td>\n",
              "      <td>Green House Cardamom Mktg.India Pvt. Ltd</td>\n",
              "      <td>174</td>\n",
              "      <td>28465.9</td>\n",
              "      <td>22494.3</td>\n",
              "      <td>1999.00</td>\n",
              "      <td>1583.70</td>\n",
              "    </tr>\n",
              "    <tr>\n",
              "      <th>7</th>\n",
              "      <td>7</td>\n",
              "      <td>02-Jan-2021</td>\n",
              "      <td>Spice More Trading Company, Kumily</td>\n",
              "      <td>280</td>\n",
              "      <td>76786.4</td>\n",
              "      <td>67074.6</td>\n",
              "      <td>2100.00</td>\n",
              "      <td>1685.68</td>\n",
              "    </tr>\n",
              "    <tr>\n",
              "      <th>8</th>\n",
              "      <td>8</td>\n",
              "      <td>02-Jan-2021</td>\n",
              "      <td>Green Cardamom Trading Company</td>\n",
              "      <td>193</td>\n",
              "      <td>52094.7</td>\n",
              "      <td>511177</td>\n",
              "      <td>2046.00</td>\n",
              "      <td>1708.62</td>\n",
              "    </tr>\n",
              "    <tr>\n",
              "      <th>9</th>\n",
              "      <td>9</td>\n",
              "      <td>01-Jan-2021</td>\n",
              "      <td>SUGANDHAGIRI SPICES PROMOTERS&amp;TRADERS Pvt Ltd</td>\n",
              "      <td>228</td>\n",
              "      <td>57586.5</td>\n",
              "      <td>51907.2</td>\n",
              "      <td>2304.00</td>\n",
              "      <td>1710.89</td>\n",
              "    </tr>\n",
              "    <tr>\n",
              "      <th>10</th>\n",
              "      <td>10</td>\n",
              "      <td>31-Dec-2020</td>\n",
              "      <td>The Kerala Cardamom Processing and Marketing C...</td>\n",
              "      <td>272</td>\n",
              "      <td>82013.3</td>\n",
              "      <td>79942.6</td>\n",
              "      <td>2197.00</td>\n",
              "      <td>1688.35</td>\n",
              "    </tr>\n",
              "  </tbody>\n",
              "</table>\n",
              "</div>"
            ],
            "text/plain": [
              "0  Sno Date of Auction  ... MaxPrice (Rs./Kg) Avg.Price (Rs./Kg)\n",
              "1    1     06-Jan-2021  ...           2020.00            1653.78\n",
              "2    2     06-Jan-2021  ...           2213.00            1691.46\n",
              "3    3     05-Jan-2021  ...           2092.00            1626.13\n",
              "4    4     05-Jan-2021  ...           1962.00            1586.01\n",
              "5    5     04-Jan-2021  ...           2106.00            1660.35\n",
              "6    6     04-Jan-2021  ...           1999.00            1583.70\n",
              "7    7     02-Jan-2021  ...           2100.00            1685.68\n",
              "8    8     02-Jan-2021  ...           2046.00            1708.62\n",
              "9    9     01-Jan-2021  ...           2304.00            1710.89\n",
              "10  10     31-Dec-2020  ...           2197.00            1688.35\n",
              "\n",
              "[10 rows x 8 columns]"
            ]
          },
          "metadata": {
            "tags": []
          },
          "execution_count": 8
        }
      ]
    },
    {
      "cell_type": "code",
      "metadata": {
        "id": "n4oSsPa-FWLY"
      },
      "source": [
        "#tables"
      ],
      "execution_count": null,
      "outputs": []
    },
    {
      "cell_type": "code",
      "metadata": {
        "id": "n4W27LqhFNpj"
      },
      "source": [
        "result_df = pd.concat(tables,ignore_index=True)"
      ],
      "execution_count": null,
      "outputs": []
    },
    {
      "cell_type": "code",
      "metadata": {
        "colab": {
          "base_uri": "https://localhost:8080/"
        },
        "id": "FgI-fU6kwYOg",
        "outputId": "196f38ef-2267-40a8-a13a-029090c0706d"
      },
      "source": [
        "result_df.shape\r\n",
        "#result_df.head"
      ],
      "execution_count": null,
      "outputs": [
        {
          "output_type": "execute_result",
          "data": {
            "text/plain": [
              "(2691, 8)"
            ]
          },
          "metadata": {
            "tags": []
          },
          "execution_count": 16
        }
      ]
    },
    {
      "cell_type": "code",
      "metadata": {
        "colab": {
          "base_uri": "https://localhost:8080/"
        },
        "id": "GlzxI03SzZSY",
        "outputId": "a6c33517-0956-4223-c47a-624bd33417d3"
      },
      "source": [
        "result_df.columns"
      ],
      "execution_count": null,
      "outputs": [
        {
          "output_type": "execute_result",
          "data": {
            "text/plain": [
              "Index(['Sno', 'Date of Auction', 'Auctioneer', 'No.of Lots',\n",
              "       'Total Qty Arrived (Kgs)', 'Qty Sold (Kgs)', 'MaxPrice (Rs./Kg)',\n",
              "       'Avg.Price (Rs./Kg)'],\n",
              "      dtype='object', name=0)"
            ]
          },
          "metadata": {
            "tags": []
          },
          "execution_count": 14
        }
      ]
    },
    {
      "cell_type": "code",
      "metadata": {
        "id": "tSdh_Us3zyfj"
      },
      "source": [
        "#https://towardsdatascience.com/how-to-export-pandas-dataframe-to-csv-2038e43d9c03\r\n",
        "result_df.to_csv(\"cardamom_auction_data.csv\",index=False,encoding='utf-8' )"
      ],
      "execution_count": null,
      "outputs": []
    },
    {
      "cell_type": "code",
      "metadata": {
        "id": "iQ-yLbUle4Je"
      },
      "source": [
        "dff=pd.read_csv(\"cardamom_auction_data.csv\")"
      ],
      "execution_count": null,
      "outputs": []
    },
    {
      "cell_type": "code",
      "metadata": {
        "colab": {
          "base_uri": "https://localhost:8080/"
        },
        "id": "1afUE9KJkTp3",
        "outputId": "a6b74be8-d4b3-4b79-c6b5-52e04c7a35d4"
      },
      "source": [
        "dff.iloc[100]"
      ],
      "execution_count": null,
      "outputs": [
        {
          "output_type": "execute_result",
          "data": {
            "text/plain": [
              "Sno                                                                101\n",
              "Date of Auction                                            04-Nov-2020\n",
              "Auctioneer                 Header Systems (India) Limited, Nedumkandam\n",
              "No.of Lots                                                         298\n",
              "Total Qty Arrived (Kgs)                                        84892.4\n",
              "Qty Sold (Kgs)                                                 74611.1\n",
              "MaxPrice (Rs./Kg)                                                 1582\n",
              "Avg.Price (Rs./Kg)                                             1317.63\n",
              "Name: 100, dtype: object"
            ]
          },
          "metadata": {
            "tags": []
          },
          "execution_count": 26
        }
      ]
    },
    {
      "cell_type": "code",
      "metadata": {
        "colab": {
          "base_uri": "https://localhost:8080/"
        },
        "id": "nPxn4tbcjVMn",
        "outputId": "62374b6b-757b-4fa7-dd02-d032ffbe734b"
      },
      "source": [
        "dff.shape"
      ],
      "execution_count": null,
      "outputs": [
        {
          "output_type": "execute_result",
          "data": {
            "text/plain": [
              "(2691, 8)"
            ]
          },
          "metadata": {
            "tags": []
          },
          "execution_count": 24
        }
      ]
    },
    {
      "cell_type": "code",
      "metadata": {
        "id": "VQYJuXlDjXWN"
      },
      "source": [
        ""
      ],
      "execution_count": null,
      "outputs": []
    }
  ]
}